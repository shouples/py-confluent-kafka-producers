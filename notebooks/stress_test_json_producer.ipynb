{
 "cells": [
  {
   "cell_type": "code",
   "execution_count": 1,
   "metadata": {},
   "outputs": [],
   "source": [
    "topic_name = \"stress_test_json\""
   ]
  },
  {
   "cell_type": "code",
   "execution_count": 2,
   "metadata": {},
   "outputs": [],
   "source": [
    "import json\n",
    "\n",
    "\n",
    "class Config:\n",
    "    def __init__(self):\n",
    "        config = json.loads(open(\"../config.json\").read())\n",
    "        self.kc_endpoint = config[\"kc_endpoint\"]\n",
    "        self.kc_api_key = config[\"kc_api_key\"]\n",
    "        self.kc_api_secret = config[\"kc_api_secret\"]\n",
    "        self.sr_endpoint = config[\"sr_endpoint\"]\n",
    "        self.sr_api_key = config[\"sr_api_key\"]\n",
    "        self.sr_api_secret = config[\"sr_api_secret\"]\n",
    "\n",
    "\n",
    "c = Config()"
   ]
  },
  {
   "cell_type": "code",
   "execution_count": 3,
   "metadata": {},
   "outputs": [
    {
     "name": "stdout",
     "output_type": "stream",
     "text": [
      "msg=<cimpl.Message object at 0x11b06a440>\n",
      "msg=<cimpl.Message object at 0x11b06a440>\n",
      "msg=<cimpl.Message object at 0x11b06a440>\n",
      "msg=<cimpl.Message object at 0x11b068b40>\n",
      "msg=<cimpl.Message object at 0x11b068b40>\n",
      "msg=<cimpl.Message object at 0x11b068b40>\n",
      "msg=<cimpl.Message object at 0x11b069b40>\n",
      "msg=<cimpl.Message object at 0x11b069b40>\n",
      "msg=<cimpl.Message object at 0x11b069b40>\n",
      "msg=<cimpl.Message object at 0x11b06a440>\n",
      "msg=<cimpl.Message object at 0x11b06a440>\n",
      "msg=<cimpl.Message object at 0x11b068b40>\n",
      "msg=<cimpl.Message object at 0x11b069b40>\n",
      "msg=<cimpl.Message object at 0x11b068b40>\n",
      "msg=<cimpl.Message object at 0x11b068b40>\n",
      "msg=<cimpl.Message object at 0x11b068b40>\n",
      "msg=<cimpl.Message object at 0x11b069b40>\n",
      "msg=<cimpl.Message object at 0x11b06a440>\n",
      "msg=<cimpl.Message object at 0x11b06a440>\n",
      "msg=<cimpl.Message object at 0x11b069b40>\n",
      "msg=<cimpl.Message object at 0x11b068b40>\n",
      "msg=<cimpl.Message object at 0x11b069b40>\n",
      "msg=<cimpl.Message object at 0x11b068b40>\n",
      "msg=<cimpl.Message object at 0x11b069b40>\n",
      "msg=<cimpl.Message object at 0x11b068b40>\n",
      "msg=<cimpl.Message object at 0x11b069b40>\n",
      "msg=<cimpl.Message object at 0x11b068b40>\n",
      "msg=<cimpl.Message object at 0x11b069b40>\n",
      "msg=<cimpl.Message object at 0x11b068b40>\n",
      "msg=<cimpl.Message object at 0x11b069b40>\n",
      "msg=<cimpl.Message object at 0x11b069b40>\n",
      "msg=<cimpl.Message object at 0x11b068b40>\n",
      "msg=<cimpl.Message object at 0x11b068b40>\n",
      "msg=<cimpl.Message object at 0x11b06a440>\n",
      "msg=<cimpl.Message object at 0x11b06a440>\n",
      "msg=<cimpl.Message object at 0x11b069b40>\n",
      "msg=<cimpl.Message object at 0x11b068b40>\n",
      "msg=<cimpl.Message object at 0x11b069b40>\n",
      "msg=<cimpl.Message object at 0x11b069b40>\n",
      "msg=<cimpl.Message object at 0x11b068b40>\n",
      "msg=<cimpl.Message object at 0x11b06a440>\n",
      "msg=<cimpl.Message object at 0x11b068b40>\n",
      "msg=<cimpl.Message object at 0x11b06a440>\n",
      "msg=<cimpl.Message object at 0x11b068b40>\n"
     ]
    }
   ],
   "source": [
    "import orjson\n",
    "\n",
    "from confluent_kafka import Producer\n",
    "\n",
    "import datagen\n",
    "\n",
    "\n",
    "conf = {\n",
    "    \"bootstrap.servers\": c.kc_endpoint,\n",
    "    \"security.protocol\": \"SASL_SSL\",\n",
    "    \"sasl.mechanisms\": \"PLAIN\",\n",
    "    \"sasl.username\": c.kc_api_key,\n",
    "    \"sasl.password\": c.kc_api_secret,\n",
    "}\n",
    "producer = Producer(conf)\n",
    "\n",
    "\n",
    "def produce_messages(num_messages: int = 5):\n",
    "    messages_sent = []\n",
    "\n",
    "    for i in range(num_messages):\n",
    "        key = datagen.generate_key()\n",
    "        headers = datagen.generate_headers()\n",
    "        value = datagen.generate_large_datatypes(144 * 1024)\n",
    "        serialized_value = orjson.dumps(value)\n",
    "        producer.produce(\n",
    "            topic_name,\n",
    "            key=key,\n",
    "            value=serialized_value,\n",
    "            headers=headers,\n",
    "            on_delivery=lambda err, msg: print(f\"{err=}\") if err else None),\n",
    "        )\n",
    "\n",
    "        if i < 5:\n",
    "            # only keep a sample of generated messages\n",
    "            messages_sent.append(\n",
    "                {\n",
    "                    \"key\": key,\n",
    "                    \"value\": value,\n",
    "                    \"headers\": headers,\n",
    "                    \"topic\": topic_name,\n",
    "                    \"serialized_value\": None,\n",
    "                }\n",
    "            )\n",
    "\n",
    "        if i % 100 == 0:\n",
    "            producer.flush()\n",
    "\n",
    "    return messages_sent\n",
    "\n",
    "\n",
    "messages = produce_messages(5_000_000)"
   ]
  },
  {
   "cell_type": "code",
   "execution_count": null,
   "metadata": {},
   "outputs": [],
   "source": [
    "len(json.dumps(messages[0])), messages[0]"
   ]
  }
 ],
 "metadata": {
  "kernelspec": {
   "display_name": ".venv",
   "language": "python",
   "name": "python3"
  },
  "language_info": {
   "codemirror_mode": {
    "name": "ipython",
    "version": 3
   },
   "file_extension": ".py",
   "mimetype": "text/x-python",
   "name": "python",
   "nbconvert_exporter": "python",
   "pygments_lexer": "ipython3",
   "version": "3.11.7"
  }
 },
 "nbformat": 4,
 "nbformat_minor": 2
}
