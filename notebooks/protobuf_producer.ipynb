{
 "cells": [
  {
   "cell_type": "code",
   "execution_count": 1,
   "metadata": {},
   "outputs": [],
   "source": [
    "topic_name = \"all_datatypes_protobuf\"\n",
    "schema_file_path = \"./schemas/protobuf_all_datatypes.proto\""
   ]
  },
  {
   "cell_type": "code",
   "execution_count": 2,
   "metadata": {},
   "outputs": [],
   "source": [
    "import json\n",
    "\n",
    "\n",
    "class Config:\n",
    "    def __init__(self):\n",
    "        config = json.loads(open(\"../config.json\").read())\n",
    "        self.kc_endpoint = config[\"kc_endpoint\"]\n",
    "        self.kc_api_key = config[\"kc_api_key\"]\n",
    "        self.kc_api_secret = config[\"kc_api_secret\"]\n",
    "        self.sr_endpoint = config[\"sr_endpoint\"]\n",
    "        self.sr_api_key = config[\"sr_api_key\"]\n",
    "        self.sr_api_secret = config[\"sr_api_secret\"]\n",
    "\n",
    "\n",
    "c = Config()"
   ]
  },
  {
   "cell_type": "code",
   "execution_count": 3,
   "metadata": {},
   "outputs": [
    {
     "name": "stderr",
     "output_type": "stream",
     "text": [
      "/Users/dshoup/Dev/scratch/.venv/lib/python3.11/site-packages/confluent_kafka/schema_registry/protobuf.py:283: UserWarning: ProtobufSerializer: the 'use.deprecated.format' configuration property, and the ability to use the old incorrect Protobuf serializer heading format introduced in confluent-kafka-python v1.4.0, will be removed in an upcoming release in 2021 Q2. Please migrate your Python Protobuf producers and consumers to 'use.deprecated.format':False as soon as possible\n",
      "  warnings.warn(\"ProtobufSerializer: the 'use.deprecated.format' \"\n"
     ]
    },
    {
     "name": "stdout",
     "output_type": "stream",
     "text": [
      "msg=<cimpl.Message object at 0x116b677c0>\n",
      "msg=<cimpl.Message object at 0x116b677c0>\n",
      "msg=<cimpl.Message object at 0x116b677c0>\n",
      "msg=<cimpl.Message object at 0x116b677c0>\n",
      "msg=<cimpl.Message object at 0x116b677c0>\n"
     ]
    }
   ],
   "source": [
    "from confluent_kafka import Producer\n",
    "from confluent_kafka.schema_registry import SchemaRegistryClient\n",
    "from confluent_kafka.schema_registry.protobuf import ProtobufSerializer\n",
    "from confluent_kafka.serialization import MessageField, SerializationContext\n",
    "\n",
    "import datagen\n",
    "from schemas import protobuf_all_datatypes_pb2\n",
    "\n",
    "# serializer setup\n",
    "sr_client = SchemaRegistryClient(\n",
    "    {\n",
    "        \"url\": c.sr_endpoint,\n",
    "        \"basic.auth.user.info\": f\"{c.sr_api_key}:{c.sr_api_secret}\",\n",
    "    }\n",
    ")\n",
    "serializer = ProtobufSerializer(\n",
    "    msg_type=protobuf_all_datatypes_pb2.SampleMessage,\n",
    "    schema_registry_client=sr_client,\n",
    "    conf={\n",
    "        \"use.deprecated.format\": True,\n",
    "    },\n",
    "    # to_dict=lambda x, ctx: x,  # I still don't know why this is necessary.\n",
    ")\n",
    "\n",
    "conf = {\n",
    "    \"bootstrap.servers\": c.kc_endpoint,\n",
    "    \"security.protocol\": \"SASL_SSL\",\n",
    "    \"sasl.mechanisms\": \"PLAIN\",\n",
    "    \"sasl.username\": c.kc_api_key,\n",
    "    \"sasl.password\": c.kc_api_secret,\n",
    "}\n",
    "producer = Producer(conf)\n",
    "\n",
    "\n",
    "def produce_messages(num_messages: int = 5):\n",
    "    messages_sent = []\n",
    "\n",
    "    for _ in range(num_messages):\n",
    "        key = datagen.generate_key()\n",
    "        value = datagen.generate_protobuf_all_datatypes()\n",
    "        headers = datagen.generate_headers()\n",
    "        serialized_value = serializer(\n",
    "            value, SerializationContext(topic_name, MessageField.VALUE)\n",
    "        )\n",
    "        producer.produce(\n",
    "            topic_name,\n",
    "            key=key,\n",
    "            value=serialized_value,\n",
    "            headers=headers,\n",
    "            on_delivery=lambda err, msg: print(f\"{err=}\") if err else print(f\"{msg=}\"),\n",
    "        )\n",
    "        messages_sent.append(\n",
    "            {\n",
    "                \"key\": key,\n",
    "                \"value\": value,\n",
    "                \"headers\": headers,\n",
    "                \"topic\": topic_name,\n",
    "                \"serialized_value\": serialized_value,\n",
    "            }\n",
    "        )\n",
    "    producer.flush()\n",
    "\n",
    "    return messages_sent\n",
    "\n",
    "\n",
    "messages = produce_messages(5)"
   ]
  },
  {
   "cell_type": "code",
   "execution_count": 5,
   "metadata": {},
   "outputs": [
    {
     "data": {
      "text/plain": [
       "(1403,\n",
       " {'key': '2e64bad0-7f7b-4ceb-9a47-c60bc29b45ba',\n",
       "  'value': boolean_field: true\n",
       "  int32_field: 278882313\n",
       "  int64_field: 7305319665803605186\n",
       "  uint32_field: 163158795\n",
       "  uint64_field: 6313998473384579906\n",
       "  sint32_field: 1568451607\n",
       "  sint64_field: 2911466140558377397\n",
       "  fixed32_field: 606719128\n",
       "  fixed64_field: 5862605961704079185\n",
       "  sfixed32_field: -1358856642\n",
       "  sfixed64_field: -2564473171884737350\n",
       "  float_field: 3.72258e+06\n",
       "  double_field: 55\n",
       "  bytes_field: \"\\261i}];^\\220\\324\\211j\"\n",
       "  string_field: \"Skill institution information realize kind attorney skill.\"\n",
       "  enum_field: ENUM_TYPE3\n",
       "  nested_message_field {\n",
       "    nested_int32_field: 4161\n",
       "  }\n",
       "  repeated_boolean_field: true\n",
       "  repeated_boolean_field: true\n",
       "  repeated_boolean_field: true\n",
       "  map_field {\n",
       "    key: \"key1\"\n",
       "    value: 6466\n",
       "  }\n",
       "  oneof_int32_field: 6837,\n",
       "  'headers': {'foo': 'magazine',\n",
       "   'bar': '8533',\n",
       "   'baz': '358120',\n",
       "   'schema_id': '100001',\n",
       "   'schema_version': '1'},\n",
       "  'topic': 'all_datatypes_protobuf',\n",
       "  'serialized_value': b'\\x00\\x00\\x01\\x86\\xab\\x00\\x08\\x01\\x10\\x89\\xd0\\xfd\\x84\\x01\\x18\\xc2\\xe9\\x98\\x97\\xfe\\xb0\\xed\\xb0e \\x8b\\xb6\\xe6M(\\xc2\\xa6\\xc9\\xb3\\x89\\x85\\xf5\\xcfW0\\xae\\xb0\\xe5\\xd7\\x0b8\\xea\\x86\\xfa\\xb8\\xef\\xc1\\xcd\\xe7PE\\x98\\xcc)$IQ\\x7fu\\x8d\\x0f)\\\\QU>~\\x01\\xafY\\xba|\\xca\\xc1<)i\\xdceP5cJi\\x00\\x00\\x00\\x00\\x00\\x80K@r\\n\\xb1i}];^\\x90\\xd4\\x89jz:Skill institution information realize kind attorney skill.\\x80\\x01\\x02\\x8a\\x01\\x03\\x08\\xc1 \\x92\\x01\\x03\\x01\\x01\\x01\\x9a\\x01\\t\\n\\x04key1\\x10\\xc22\\xa0\\x01\\xb55'})"
      ]
     },
     "execution_count": 5,
     "metadata": {},
     "output_type": "execute_result"
    }
   ],
   "source": [
    "# need a better way of getting protobuf message size\n",
    "len(str(messages[0])), messages[0]"
   ]
  }
 ],
 "metadata": {
  "kernelspec": {
   "display_name": ".venv",
   "language": "python",
   "name": "python3"
  },
  "language_info": {
   "codemirror_mode": {
    "name": "ipython",
    "version": 3
   },
   "file_extension": ".py",
   "mimetype": "text/x-python",
   "name": "python",
   "nbconvert_exporter": "python",
   "pygments_lexer": "ipython3",
   "version": "3.11.7"
  }
 },
 "nbformat": 4,
 "nbformat_minor": 2
}
