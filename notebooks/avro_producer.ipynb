{
 "cells": [
  {
   "cell_type": "code",
   "execution_count": 1,
   "metadata": {},
   "outputs": [],
   "source": [
    "topic_name = \"all_datatypes_avro\"\n",
    "schema_file_path = \"./schemas/avro_all_datatypes.avsc\""
   ]
  },
  {
   "cell_type": "code",
   "execution_count": 2,
   "metadata": {},
   "outputs": [],
   "source": [
    "import json\n",
    "\n",
    "\n",
    "class Config:\n",
    "    def __init__(self):\n",
    "        config = json.loads(open(\"../config.json\").read())\n",
    "        self.kc_endpoint = config[\"kc_endpoint\"]\n",
    "        self.kc_api_key = config[\"kc_api_key\"]\n",
    "        self.kc_api_secret = config[\"kc_api_secret\"]\n",
    "        self.sr_endpoint = config[\"sr_endpoint\"]\n",
    "        self.sr_api_key = config[\"sr_api_key\"]\n",
    "        self.sr_api_secret = config[\"sr_api_secret\"]\n",
    "\n",
    "\n",
    "c = Config()"
   ]
  },
  {
   "cell_type": "code",
   "execution_count": 3,
   "metadata": {},
   "outputs": [
    {
     "name": "stdout",
     "output_type": "stream",
     "text": [
      "msg=<cimpl.Message object at 0x10cbf9840>\n",
      "msg=<cimpl.Message object at 0x10cbf9840>\n",
      "msg=<cimpl.Message object at 0x10cbf9740>\n",
      "msg=<cimpl.Message object at 0x10cbf9740>\n",
      "msg=<cimpl.Message object at 0x10cbf9740>\n"
     ]
    }
   ],
   "source": [
    "from confluent_kafka import Producer\n",
    "from confluent_kafka.schema_registry import SchemaRegistryClient\n",
    "from confluent_kafka.schema_registry.avro import AvroSerializer\n",
    "from confluent_kafka.serialization import MessageField, SerializationContext\n",
    "\n",
    "import datagen\n",
    "\n",
    "# serializer setup\n",
    "sr_client = SchemaRegistryClient(\n",
    "    {\n",
    "        \"url\": c.sr_endpoint,\n",
    "        \"basic.auth.user.info\": f\"{c.sr_api_key}:{c.sr_api_secret}\",\n",
    "    }\n",
    ")\n",
    "serializer = AvroSerializer(\n",
    "    schema_registry_client=sr_client,\n",
    "    schema_str=open(schema_file_path).read(),\n",
    "    to_dict=lambda x, ctx: x,  # I still don't know why this is necessary.\n",
    ")\n",
    "\n",
    "conf = {\n",
    "    \"bootstrap.servers\": c.kc_endpoint,\n",
    "    \"security.protocol\": \"SASL_SSL\",\n",
    "    \"sasl.mechanisms\": \"PLAIN\",\n",
    "    \"sasl.username\": c.kc_api_key,\n",
    "    \"sasl.password\": c.kc_api_secret,\n",
    "}\n",
    "producer = Producer(conf)\n",
    "\n",
    "\n",
    "def produce_messages(num_messages: int = 5):\n",
    "    messages_sent = []\n",
    "\n",
    "    for _ in range(num_messages):\n",
    "        key = datagen.generate_key()\n",
    "        value = datagen.generate_avro_all_datatypes()\n",
    "        headers = datagen.generate_headers()\n",
    "        serialized_value = serializer(\n",
    "            value, SerializationContext(topic_name, MessageField.VALUE)\n",
    "        )\n",
    "        producer.produce(\n",
    "            topic_name,\n",
    "            key=key,\n",
    "            value=serialized_value,\n",
    "            headers=headers,\n",
    "            on_delivery=lambda err, msg: print(f\"{err=}\") if err else None,\n",
    "        )\n",
    "        messages_sent.append(\n",
    "            {\n",
    "                \"key\": key,\n",
    "                \"value\": value,\n",
    "                \"headers\": headers,\n",
    "                \"topic\": topic_name,\n",
    "                \"serialized_value\": serialized_value,\n",
    "            }\n",
    "        )\n",
    "    producer.flush()\n",
    "\n",
    "    return messages_sent\n",
    "\n",
    "\n",
    "messages = produce_messages(5)"
   ]
  },
  {
   "cell_type": "code",
   "execution_count": 5,
   "metadata": {},
   "outputs": [
    {
     "data": {
      "text/plain": [
       "(977,\n",
       " {'key': 'f684f92b-d8e9-4dc6-af1f-fa88377a8f3c',\n",
       "  'value': {'nullField': None,\n",
       "   'booleanField': False,\n",
       "   'intField': 13,\n",
       "   'floatField': 579340535,\n",
       "   'doubleField': 67798,\n",
       "   'bytesField': b'\\xb9h{\\x16\\xc4aoE\\xd2o',\n",
       "   'stringField': 'Say despite of whole.',\n",
       "   'arrayField': ['up', 'such', 'teach', 'right', 'style'],\n",
       "   'mapField': {'situation': 6561,\n",
       "    'leg': 5032,\n",
       "    'control': 9522,\n",
       "    'room': 8301,\n",
       "    'gun': 1849},\n",
       "   'enumField': 'A',\n",
       "   'fixedField': b'\\x80\\xd3*I\\x9aa/>o\\x17[]09R\\xfc',\n",
       "   'unionField': None,\n",
       "   'recordField': {'nestedField': 'least'}},\n",
       "  'headers': {'foo': 'election',\n",
       "   'bar': '5615',\n",
       "   'baz': '457699652',\n",
       "   'schema_id': '100001',\n",
       "   'schema_version': '1'},\n",
       "  'topic': 'all_datatypes_avro',\n",
       "  'serialized_value': b'\\x00\\x00\\x01\\x86\\xa9\\x00\\x1a$ \\nN\\x00\\x00\\x00\\x00`\\x8d\\xf0@\\x14\\xb9h{\\x16\\xc4aoE\\xd2o*Say despite of whole.\\n\\x04up\\x08such\\nteach\\nright\\nstyle\\x00\\n\\x12situation\\xc2f\\x06leg\\xd0N\\x0econtrol\\xe4\\x94\\x01\\x08room\\xda\\x81\\x01\\x06gun\\xf2\\x1c\\x00\\x00\\x80\\xd3*I\\x9aa/>o\\x17[]09R\\xfc\\x00\\nleast'})"
      ]
     },
     "execution_count": 5,
     "metadata": {},
     "output_type": "execute_result"
    }
   ],
   "source": [
    "len(str(messages[0])), messages[0]"
   ]
  }
 ],
 "metadata": {
  "kernelspec": {
   "display_name": ".venv",
   "language": "python",
   "name": "python3"
  },
  "language_info": {
   "codemirror_mode": {
    "name": "ipython",
    "version": 3
   },
   "file_extension": ".py",
   "mimetype": "text/x-python",
   "name": "python",
   "nbconvert_exporter": "python",
   "pygments_lexer": "ipython3",
   "version": "3.11.7"
  }
 },
 "nbformat": 4,
 "nbformat_minor": 2
}
